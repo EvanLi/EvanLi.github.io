{
 "cells": [
  {
   "cell_type": "markdown",
   "metadata": {},
   "source": [
    "# 机器学习分类算法介绍与Sklearn实现\n",
    "\n",
    "\n",
    "[Multiclass classification using scikit-learn](https://www.geeksforgeeks.org/multiclass-classification-using-scikit-learn/)\n",
    "\n",
    "**Approach**\n",
    "\n",
    "1.  Load dataset from source.\n",
    "2.  Split the dataset into “training” and “test” data.\n",
    "3.  Train Decision tree, SVM, and KNN classifiers on the training data.\n",
    "4.  Use the above classifiers to predict labels for the test data.\n",
    "5.  Measure accuracy and visualise classification.\n",
    "\n",
    "\n",
    "[Types of classification algorithms in Machine Learning](https://medium.com/@Mandysidana/machine-learning-types-of-classification-9497bd4f2e14)\n",
    "\n",
    "**Types**\n",
    "\n",
    "1.  Linear Classifiers: Logistic Regression, Naive Bayes Classifier\n",
    "2.  Support Vector Machines\n",
    "3.  Decision Trees\n",
    "4.  Boosted Trees\n",
    "5.  Random Forest\n",
    "6.  Stochastic Gradient Descent\n",
    "7.  Nearest Neighbor\n",
    "8.  Neural Networks\n",
    "\n",
    "[7 Types of Classification Algorithms](https://www.analyticsindiamag.com/7-types-classification-algorithms/)"
   ]
  },
  {
   "cell_type": "markdown",
   "metadata": {},
   "source": [
    "**测试数据：iris数据**"
   ]
  },
  {
   "cell_type": "code",
   "execution_count": 1,
   "metadata": {},
   "outputs": [],
   "source": [
    "# importing necessary libraries\n",
    "from sklearn import datasets\n",
    "from sklearn.model_selection import train_test_split\n",
    "\n",
    "# loading the iris dataset\n",
    "iris = datasets.load_iris()\n",
    "\n",
    "# X -> features, y -> label\n",
    "X = iris.data\n",
    "y = iris.target\n",
    "\n",
    "# dividing X, y into train and test data\n",
    "X_train, X_test, y_train, y_test = train_test_split(X, y, test_size=0.3, random_state = 0)"
   ]
  },
  {
   "cell_type": "markdown",
   "metadata": {},
   "source": [
    "**混淆矩阵用法：**"
   ]
  },
  {
   "cell_type": "code",
   "execution_count": 2,
   "metadata": {},
   "outputs": [
    {
     "name": "stdout",
     "output_type": "stream",
     "text": [
      "[[1 0 1]\n",
      " [1 1 0]\n",
      " [0 0 2]]\n"
     ]
    }
   ],
   "source": [
    "from sklearn.metrics import confusion_matrix\n",
    "\n",
    "y_true=[2,1,0,1,2,0]\n",
    "y_pred=[2,0,0,1,2,2]\n",
    "\n",
    "cm=confusion_matrix(y_true, y_pred)\n",
    "print(cm)"
   ]
  },
  {
   "cell_type": "markdown",
   "metadata": {},
   "source": [
    "第一行1 0 1第三个1是：将0预测为2\n",
    "\n",
    "第二行1 0 1第一个1是：将1预测为0"
   ]
  },
  {
   "cell_type": "markdown",
   "metadata": {},
   "source": [
    "## 1.Logistic Regression (Predictive Learning Model) 逻辑回归: \n",
    "It is a statistical method for analysing a data set in which there are one or more independent variables that determine an outcome. The outcome is measured with a dichotomous variable (in which there are only two possible outcomes). The goal of logistic regression is to find the best fitting model to describe the relationship between the dichotomous characteristic of interest (dependent variable = response or outcome variable) and a set of independent (predictor or explanatory) variables.\n",
    "\n",
    "它是用于分析数据集的统计方法，其中存在一个或多个确定结果的独立变量。结果用二分变量（其中只有两种可能的结果）来衡量。逻辑回归的目标是找到最佳拟合模型来描述感兴趣的二分特征（因变量=响应或结果变量）与一组独立（预测或解释）变量之间的关系。\n",
    "\n",
    "**Definition**: Logistic regression is a machine learning algorithm for classification. In this algorithm, the probabilities describing the possible outcomes of a single trial are modelled using a logistic function.\n",
    "\n",
    "**Advantages**: Logistic regression is designed for this purpose (classification), and is most useful for understanding the influence of several independent variables on a single outcome variable.\n",
    "\n",
    "**Disadvantages**: Works only when the predicted variable is binary, assumes all predictors are independent of each other, and assumes data is free of missing values."
   ]
  },
  {
   "cell_type": "code",
   "execution_count": 3,
   "metadata": {},
   "outputs": [
    {
     "name": "stdout",
     "output_type": "stream",
     "text": [
      "0.9777777777777777\n",
      "[[16  0  0]\n",
      " [ 0 17  1]\n",
      " [ 0  0 11]]\n"
     ]
    }
   ],
   "source": [
    "# # training a Logistic Regression classifier\n",
    "from sklearn.linear_model import LogisticRegression\n",
    "from sklearn.metrics import confusion_matrix #混淆矩阵\n",
    "\n",
    "clf = LogisticRegression(random_state=0, solver='lbfgs',multi_class='multinomial')\n",
    "clf.fit(X_train,y_train)\n",
    "\n",
    "# accuracy on X_test\n",
    "accuracy = clf.score(X_test,y_test)\n",
    "print(accuracy)\n",
    "\n",
    "y_predictions = clf.predict(X_test)\n",
    "# creating a confusion matrix\n",
    "cm = confusion_matrix(y_test, y_predictions)\n",
    "print(cm)"
   ]
  },
  {
   "cell_type": "markdown",
   "metadata": {},
   "source": [
    "## 2.Naive Bayes Classifier (Generative Learning Model)朴素贝叶斯分类器 :\n",
    "It is a classification technique based on Bayes’ Theorem with an assumption of independence among predictors. In simple terms, a Naive Bayes classifier assumes that the presence of a particular feature in a class is unrelated to the presence of any other feature. Even if these features depend on each other or upon the existence of the other features, all of these properties independently contribute to the probability. Naive Bayes model is easy to build and particularly useful for very large data sets. Along with simplicity, Naive Bayes is known to outperform even highly sophisticated classification methods.\n",
    "\n",
    "它是一种基于贝叶斯定理的分类技术，假设在预测变量中具有独立性。简单来说，朴素贝叶斯分类器假定类中特定特征的存在与任何其他特征的存在无关。即使这些特征彼此依赖或依赖于其他特征的存在，所有这些特性也独立地影响概率。朴素贝叶斯模型易于构建，特别适用于非常大的数据集。除简单外，Naive Bayes的表现甚至超过了高度复杂的分类方法。\n",
    "\n",
    "Definition: Naive Bayes algorithm based on Bayes’ theorem with the assumption of independence between every pair of features. Naive Bayes classifiers work well in many real-world situations such as document classification and spam filtering.\n",
    "\n",
    "Advantages: This algorithm requires a small amount of training data to estimate the necessary parameters. Naive Bayes classifiers are extremely fast compared to more sophisticated methods.\n",
    "\n",
    "Disadvantages: Naive Bayes is is known to be a bad estimator.\n",
    "\n",
    "---\n",
    "\n",
    "Naive Bayes classification method is based on Bayes’ theorem. It is termed as ‘Naive’ because it assumes independence between every pair of feature in the data. Let **(x<sub>1</sub>, x<sub>2</sub>, …, x<sub>n</sub>)** be a feature vector and **y** be the class label corresponding to this feature vector.\n",
    "\n",
    "Applying Bayes’ theorem,\n",
    "\n",
    "![Naive Bayes classifier equation](https://cdncontribute.geeksforgeeks.org/wp-content/uploads/Naive_Bayes_classifier_1.png)\n",
    "\n",
    "Since, **x<sub>1</sub>, x<sub>2</sub>, …, x<sub>n</sub>** are independent of each other,\n",
    "\n",
    "![Naive Bayes classifier equation](https://cdncontribute.geeksforgeeks.org/wp-content/uploads/Naive_Bayes_classifier_2.png)\n",
    "\n",
    "Inserting proportionality by removing the **P(x<sub>1</sub>, …, x<sub>n</sub>)** (since, it is constant).\n",
    "\n",
    "![Naive Bayes classifier equation](https://cdncontribute.geeksforgeeks.org/wp-content/uploads/Naive_Bayes_classifier_3.png)\n",
    "\n",
    "Therefore, the class label is decided by,\n",
    "\n",
    "![Naive Bayes classifier equation](https://cdncontribute.geeksforgeeks.org/wp-content/uploads/Naive_Bayes_classifier_4.png)\n",
    "\n",
    "**P(y)** is the relative frequency of class label **y** in the training dataset.\n",
    "\n",
    "In case of Gaussian Naive Bayes classifier, **P(x<sub>i</sub> | y)** is calculated as,\n",
    "\n",
    "![Naive Bayes classifier equation](https://cdncontribute.geeksforgeeks.org/wp-content/uploads/Naive_Bayes_classifier_5.png)"
   ]
  },
  {
   "cell_type": "code",
   "execution_count": 4,
   "metadata": {},
   "outputs": [
    {
     "name": "stdout",
     "output_type": "stream",
     "text": [
      "1.0\n",
      "[[16  0  0]\n",
      " [ 0 18  0]\n",
      " [ 0  0 11]]\n"
     ]
    }
   ],
   "source": [
    "# training a Naive Bayes classifier\n",
    "from sklearn.naive_bayes import GaussianNB\n",
    "from sklearn.metrics import confusion_matrix #混淆矩阵\n",
    "\n",
    "clf = GaussianNB()\n",
    "clf.fit(X_train, y_train)\n",
    "\n",
    "# accuracy on X_test\n",
    "accuracy = clf.score(X_test, y_test)\n",
    "print(accuracy)\n",
    "\n",
    "y_predictions = clf.predict(X_test)\n",
    "# creating a confusion matrix\n",
    "cm = confusion_matrix(y_test, y_predictions)\n",
    "print(cm)"
   ]
  },
  {
   "cell_type": "markdown",
   "metadata": {},
   "source": [
    "## 3.  Support Vector Machines支持向量机\n",
    "\n",
    "SVM (Support vector machine) is an efficient classification method when the feature vector is high dimensional. In sci-kit learn, we can specify the the kernel function (here, linear). To know more about kernel functions and SVM refer – [Kernel function | sci-kit learn](http://scikit-learn.org/stable/modules/svm.html#svm-kernels) and [SVM](https://www.analyticsvidhya.com/blog/2015/10/understaing-support-vector-machine-example-code/).\n",
    "\n",
    "当特征向量是高维的时，SVM（支持向量机）是一种有效的分类方法。在sci-kit学习中，我们可以指定内核函数（这里是线性）。要了解有关内核函数和SVM的更多信息，请参阅 - 内核函数| sci-kit learn和SVM。\n",
    "\n",
    "**Definition:** Support vector machine is a representation of the training data as points in space separated into categories by a clear gap that is as wide as possible. New examples are then mapped into that same space and predicted to belong to a category based on which side of the gap they fall.\n",
    "\n",
    "**Advantages:** Effective in high dimensional spaces and uses a subset of training points in the decision function so it is also memory efficient.\n",
    "\n",
    "**Disadvantages:** The algorithm does not directly provide probability estimates, these are calculated using an expensive five-fold cross-validation."
   ]
  },
  {
   "cell_type": "code",
   "execution_count": 5,
   "metadata": {},
   "outputs": [
    {
     "name": "stdout",
     "output_type": "stream",
     "text": [
      "0.9777777777777777\n",
      "[[16  0  0]\n",
      " [ 0 17  1]\n",
      " [ 0  0 11]]\n"
     ]
    }
   ],
   "source": [
    "# training a linear SVM classifier\n",
    "from sklearn.svm import SVC\n",
    "from sklearn.metrics import confusion_matrix #混淆矩阵\n",
    "\n",
    "clf = SVC(kernel = 'linear', C = 1)\n",
    "clf.fit(X_train, y_train)\n",
    "\n",
    "# accuracy on X_test\n",
    "accuracy = clf.score(X_test, y_test)\n",
    "print(accuracy)\n",
    "\n",
    "y_predictions = clf.predict(X_test)\n",
    "# creating a confusion matrix\n",
    "cm = confusion_matrix(y_test, y_predictions)\n",
    "print(cm)"
   ]
  },
  {
   "cell_type": "markdown",
   "metadata": {},
   "source": [
    "## 4.Decision Tree决策树\n",
    "\n",
    "Decision tree classifier is a systematic approach for multiclass classification. It poses a set of questions to the dataset (related to its attributes/features). The decision tree classification algorithm can be visualized on a binary tree. On the root and each of the internal nodes, a question is posed and the data on that node is further split into separate records that have different characteristics. The leaves of the tree refer to the classes in which the dataset is split. In the following code snippet, we train a decision tree classifier in scikit-learn.\n",
    "\n",
    "决策树分类器是多类分类的系统方法。它为数据集提出了一组问题（与其属性/特征相关）。决策树分类算法可以在二叉树上可视化。在根节点和每个内部节点上，提出了一个问题，并且该节点上的数据被进一步拆分为具有不同特征的单独记录。树的叶子指的是分割数据集的类。在下面的代码片段中，我们在scikit-learn中训练决策树分类器。\n",
    "\n",
    "**Definition:** Given a data of attributes together with its classes, a decision tree produces a sequence of rules that can be used to classify the data.\n",
    "\n",
    "**Advantages:** Decision Tree is simple to understand and visualise, requires little data preparation, and can handle both numerical and categorical data.\n",
    "\n",
    "**Disadvantages:** Decision tree can create complex trees that do not generalise well, and decision trees can be unstable because small variations in the data might result in a completely different tree being generated."
   ]
  },
  {
   "cell_type": "code",
   "execution_count": 6,
   "metadata": {},
   "outputs": [
    {
     "name": "stdout",
     "output_type": "stream",
     "text": [
      "0.9111111111111111\n",
      "[[16  0  0]\n",
      " [ 0 17  1]\n",
      " [ 0  3  8]]\n"
     ]
    }
   ],
   "source": [
    "# training a Descision Tree Classifier\n",
    "from sklearn.tree import DecisionTreeClassifier\n",
    "from sklearn.metrics import confusion_matrix #混淆矩阵\n",
    "\n",
    "clf = DecisionTreeClassifier(max_depth = 2)\n",
    "clf.fit(X_train, y_train)\n",
    "\n",
    "# accuracy on X_test\n",
    "accuracy = clf.score(X_test, y_test)\n",
    "print(accuracy)\n",
    "\n",
    "y_predictions = clf.predict(X_test)\n",
    "# creating a confusion matrix\n",
    "cm = confusion_matrix(y_test, y_predictions)\n",
    "print(cm)"
   ]
  },
  {
   "cell_type": "markdown",
   "metadata": {},
   "source": [
    "## 5.Boosted Trees | 梯度提升决策树GBDT\n",
    "\n",
    "集成方法(Ensemble Method)\n",
    "\n",
    "GBDT(Gradient Boosting Decision Tree)\n",
    "\n",
    "http://www.liuhaihua.cn/archives/57364.html\n",
    "\n",
    "作为一个非常有效的机器学习方法，Boosted Tree是数据挖掘和机器学习中最常用的算法之一。因为它效果好，对于输入要求不敏感，往往是从统计学家到数据科学家必备的工具之一，它同时也是kaggle比赛冠军选手最常用的工具。最后，因为它的效果好，计算复杂度不高，也在工业界中有大量的应用。\n",
    "\n",
    "Boosted Tree有各种马甲，比如GBDT, GBRT (gradient boosted regression tree)，MART，LambdaMART也是一种boosted tree的变种。"
   ]
  },
  {
   "cell_type": "markdown",
   "metadata": {},
   "source": [
    "AdaBoost classifier with 100 weak learners:"
   ]
  },
  {
   "cell_type": "code",
   "execution_count": 7,
   "metadata": {},
   "outputs": [
    {
     "data": {
      "text/plain": [
       "0.9466666666666665"
      ]
     },
     "execution_count": 7,
     "metadata": {},
     "output_type": "execute_result"
    }
   ],
   "source": [
    "from sklearn.model_selection import cross_val_score\n",
    "from sklearn.datasets import load_iris\n",
    "from sklearn.ensemble import AdaBoostClassifier\n",
    "\n",
    "iris = load_iris()\n",
    "clf = AdaBoostClassifier(n_estimators=100)\n",
    "scores = cross_val_score(clf, iris.data, iris.target, cv=5)\n",
    "scores.mean()  "
   ]
  },
  {
   "cell_type": "markdown",
   "metadata": {},
   "source": [
    "梯度提升回归树:\n",
    "\n",
    "Gradient Tree Boosting or Gradient Boosted Regression Trees (GBRT):\n",
    "\n",
    "The advantages of GBRT are:\n",
    "\n",
    "*   Natural handling of data of mixed type (= heterogeneous features)\n",
    "*   Predictive power\n",
    "*   Robustness to outliers in output space (via robust loss functions)\n",
    "\n",
    "The disadvantages of GBRT are:\n",
    "\n",
    "*   Scalability, due to the sequential nature of boosting it can hardly be parallelized."
   ]
  },
  {
   "cell_type": "code",
   "execution_count": 8,
   "metadata": {},
   "outputs": [
    {
     "data": {
      "text/plain": [
       "0.913"
      ]
     },
     "execution_count": 8,
     "metadata": {},
     "output_type": "execute_result"
    }
   ],
   "source": [
    "from sklearn.datasets import make_hastie_10_2\n",
    "from sklearn.ensemble import GradientBoostingClassifier\n",
    "\n",
    "X, y = make_hastie_10_2(random_state=0)\n",
    "X_train, X_test = X[:2000], X[2000:]\n",
    "y_train, y_test = y[:2000], y[2000:]\n",
    "\n",
    "clf = GradientBoostingClassifier(n_estimators=100, learning_rate=1.0,\n",
    "    max_depth=1, random_state=0).fit(X_train, y_train)\n",
    "clf.score(X_test, y_test)   "
   ]
  },
  {
   "cell_type": "markdown",
   "metadata": {},
   "source": [
    "## 6.Random Forest随机森林\n",
    "\n",
    "**Definition:** Random forest classifier is a meta-estimator that fits a number of decision trees on various sub-samples of datasets and uses average to improve the predictive accuracy of the model and controls over-fitting. The sub-sample size is always the same as the original input sample size but the samples are drawn with replacement.\n",
    "\n",
    "**Advantages:** Reduction in over-fitting and random forest classifier is more accurate than decision trees in most cases.\n",
    "\n",
    "**Disadvantages:** Slow real time prediction, difficult to implement, and complex algorithm."
   ]
  },
  {
   "cell_type": "code",
   "execution_count": 9,
   "metadata": {},
   "outputs": [
    {
     "name": "stdout",
     "output_type": "stream",
     "text": [
      "0.8661\n",
      "[[4160  889]\n",
      " [ 450 4501]]\n"
     ]
    }
   ],
   "source": [
    "# training a Descision Tree Classifier\n",
    "from sklearn.ensemble import RandomForestClassifier\n",
    "from sklearn.metrics import confusion_matrix #混淆矩阵\n",
    "\n",
    "clf = RandomForestClassifier(n_estimators=70,oob_score=True)\n",
    "clf.fit(X_train, y_train)\n",
    "\n",
    "# accuracy on X_test\n",
    "accuracy = clf.score(X_test, y_test)\n",
    "print(accuracy)\n",
    "\n",
    "y_predictions = clf.predict(X_test)\n",
    "# creating a confusion matrix\n",
    "cm = confusion_matrix(y_test, y_predictions)\n",
    "print(cm)"
   ]
  },
  {
   "cell_type": "markdown",
   "metadata": {},
   "source": [
    "## 7.Stochastic Gradient Descent\n",
    "\n",
    "https://www.geeksforgeeks.org/ml-stochastic-gradient-descent-sgd/\n",
    "\n",
    "**什么是梯度下降？**\n",
    "\n",
    "在谈论随机梯度下降（SGD）之前，让我们先了解什么是梯度下降？Gradient Descent是机器学习和深度学习中非常流行的优化技术，它可以与大多数（如果不是全部）学习算法一起使用。梯度基本上是函数的斜率; 参数的变化程度与另一个参数的变化量。在数学上，它可以被描述为关于其输入的一组参数的偏导数。梯度越大，坡度越陡。渐变下降是凸函数。\n",
    "梯度下降可以被描述为迭代方法，其用于找到函数的参数的值，其尽可能地最小化成本函数。参数最初被定义为特定值，并且由此，梯度下降以迭代方式运行以使用微积分找到参数的最佳值，以找到给定成本函数的最小可能值。\n",
    "\n",
    "**梯度下降的类型：**\n",
    "通常，有三种类型的梯度下降：\n",
    "\n",
    "1.  批量梯度下降\n",
    "2.  随机梯度下降\n",
    "3.  小批量梯度下降\n",
    "\n",
    "在本文中，我们将讨论**随机梯度下降**或SGD。\n",
    "\n",
    "### 随机梯度下降（SGD）：\n",
    "\n",
    "“ _随机_ ” 一词是指与随机概率相关联的系统或过程。因此，在随机梯度下降中，随机选择一些样本而不是每次迭代的整个数据集。在Gradient Descent中，有一个名为“batch”的术语，表示来自数据集的样本总数，用于计算每次迭代的梯度。在典型的梯度下降优化中，如批量梯度下降，批次被视为整个数据集。虽然使用整个数据集对于以较少噪声或较不随机的方式获得最小值非常有用，但是当我们的数据集变得非常庞大时会出现问题。\n",
    "假设您的数据集中有一百万个样本，因此如果您使用典型的梯度下降优化技术，则必须使用所有一百万个样本来完成一次迭代，同时执行渐变下降，并且必须完成每次迭代，直到达到最小值。因此，执行计算成本非常高。\n",
    "\n",
    "这个问题通过随机梯度下降来解决。在SGD中，它仅使用单个样本（即批量大小为1）来执行每次迭代。随机洗牌并选择样本以执行迭代。\n",
    "\n",
    "**SGD算法：**\n",
    "\n",
    "![sgdns](https://cdncontribute.geeksforgeeks.org/wp-content/uploads/sgdn.png)\n",
    "\n",
    "因此，在SGD中，我们在每次迭代中找出单个示例的成本函数的梯度，而不是所有示例的成本函数的梯度之和。\n",
    "\n",
    "在SGD中，由于每次迭代只选择一个来自数据集的样本，因此算法达到最小值所采用的路径通常比典型的梯度下降算法更嘈杂。但这并不重要，因为算法所采用的路径并不重要，只要我们达到最小值并且训练时间明显缩短。\n",
    "\n",
    "批量梯度下降采取的路径 - \n",
    "<img src=\"https://cdncontribute.geeksforgeeks.org/wp-content/uploads/gdp.png\" alt=\"gd_path\" width=\"250x\"/>\n",
    "\n",
    "随机梯度下降所采取的路径 - \n",
    "<img src=\"https://cdncontribute.geeksforgeeks.org/wp-content/uploads/sgd-1.jpg\" alt=\"sgd_path\" width=\"250\"/>\n",
    "\n",
    "需要注意的一点是，由于SGD通常比典型的梯度下降更嘈杂，因此通常需要更多的迭代才能达到最小值，因为它的下降具有随机性。尽管与典型的梯度下降相比，它需要更多的迭代次数来达到最小值，但它的计算成本仍然比典型的梯度下降要便宜得多。因此，在大多数情况下，SGD优于批量梯度下降优化学习算法。\n",
    "\n",
    "https://scikit-learn.org/stable/modules/sgd.html\n",
    "\n",
    "The advantages of Stochastic Gradient Descent are:\n",
    "\n",
    "*   Efficiency.\n",
    "*   Ease of implementation (lots of opportunities for code tuning).\n",
    "\n",
    "The disadvantages of Stochastic Gradient Descent include:\n",
    "\n",
    "*   SGD requires a number of hyperparameters such as the regularization parameter and the number of iterations.\n",
    "*   SGD is sensitive to feature scaling."
   ]
  },
  {
   "cell_type": "code",
   "execution_count": 10,
   "metadata": {},
   "outputs": [
    {
     "data": {
      "text/plain": [
       "SGDClassifier(alpha=0.0001, average=False, class_weight=None,\n",
       "       early_stopping=False, epsilon=0.1, eta0=0.0, fit_intercept=True,\n",
       "       l1_ratio=0.15, learning_rate='optimal', loss='hinge', max_iter=15,\n",
       "       n_iter=None, n_iter_no_change=5, n_jobs=None, penalty='l2',\n",
       "       power_t=0.5, random_state=None, shuffle=True, tol=0.001,\n",
       "       validation_fraction=0.1, verbose=0, warm_start=False)"
      ]
     },
     "execution_count": 10,
     "metadata": {},
     "output_type": "execute_result"
    }
   ],
   "source": [
    "from sklearn.linear_model import SGDClassifier\n",
    "X = [[0., 0.], [1., 1.]]\n",
    "y = [0, 1]\n",
    "clf = SGDClassifier(loss=\"hinge\", penalty=\"l2\", tol=1e-3, max_iter=15)\n",
    "clf.fit(X, y) "
   ]
  },
  {
   "cell_type": "code",
   "execution_count": 11,
   "metadata": {},
   "outputs": [
    {
     "data": {
      "text/plain": [
       "array([1])"
      ]
     },
     "execution_count": 11,
     "metadata": {},
     "output_type": "execute_result"
    }
   ],
   "source": [
    "clf.predict([[2., 2.]])"
   ]
  },
  {
   "cell_type": "markdown",
   "metadata": {},
   "source": [
    "## 8.K-Nearest Neighbours(KNN) K近邻算法\n",
    "\n",
    "KNN or k-nearest neighbours is the simplest classification algorithm. This classification algorithm does not depend on the structure of the data. Whenever a new example is encountered, its k nearest neighbours from the training data are examined. Distance between two examples can be the euclidean distance between their feature vectors. The majority class among the k nearest neighbours is taken to be the class for the encountered example.\n",
    "\n",
    "KNN或k-最近邻是最简单的分类算法。该分类算法不依赖于数据的结构。每当遇到新的例子时，都会检查训练数据中的k个最近邻居。两个示例之间的距离可以是它们的特征向量之间的欧几里德距离。 k个最近邻居中的大多数类被认为是遇到的例子的类。\n",
    "\n",
    "**Definition:** Neighbours based classification is a type of lazy learning as it does not attempt to construct a general internal model, but simply stores instances of the training data. Classification is computed from a simple majority vote of the k nearest neighbours of each point.\n",
    "\n",
    "**Advantages:** This algorithm is simple to implement, robust to noisy training data, and effective if training data is large.\n",
    "\n",
    "**Disadvantages:** Need to determine the value of K and the computation cost is high as it needs to computer the distance of each instance to all the training samples."
   ]
  },
  {
   "cell_type": "code",
   "execution_count": 12,
   "metadata": {},
   "outputs": [
    {
     "name": "stdout",
     "output_type": "stream",
     "text": [
      "0.6384\n",
      "[[4996   53]\n",
      " [3563 1388]]\n"
     ]
    }
   ],
   "source": [
    "# training a KNN classifier\n",
    "from sklearn.neighbors import KNeighborsClassifier\n",
    "from sklearn.metrics import confusion_matrix #混淆矩阵\n",
    "\n",
    "clf = KNeighborsClassifier(n_neighbors = 7).fit(X_train, y_train)\n",
    "clf.fit(X_train, y_train)\n",
    "\n",
    "# accuracy on X_test\n",
    "accuracy = clf.score(X_test, y_test)\n",
    "print(accuracy)\n",
    "\n",
    "y_predictions = clf.predict(X_test)\n",
    "# creating a confusion matrix\n",
    "cm = confusion_matrix(y_test, y_predictions)\n",
    "print(cm)"
   ]
  }
 ],
 "metadata": {
  "kernelspec": {
   "display_name": "tf36",
   "language": "python",
   "name": "tf36"
  },
  "language_info": {
   "codemirror_mode": {
    "name": "ipython",
    "version": 3
   },
   "file_extension": ".py",
   "mimetype": "text/x-python",
   "name": "python",
   "nbconvert_exporter": "python",
   "pygments_lexer": "ipython3",
   "version": "3.6.8"
  }
 },
 "nbformat": 4,
 "nbformat_minor": 2
}
